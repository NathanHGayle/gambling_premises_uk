{
 "cells": [
  {
   "cell_type": "markdown",
   "metadata": {},
   "source": [
    "### Exploratory Data Analysis: \n"
   ]
  },
  {
   "cell_type": "markdown",
   "metadata": {},
   "source": [
    "### SetUp"
   ]
  },
  {
   "cell_type": "markdown",
   "metadata": {},
   "source": [
    "Download datasets from Kaggle repository"
   ]
  },
  {
   "cell_type": "markdown",
   "metadata": {},
   "source": [
    "Import datasets into memory"
   ]
  },
  {
   "cell_type": "code",
   "execution_count": 1,
   "metadata": {},
   "outputs": [
    {
     "name": "stderr",
     "output_type": "stream",
     "text": [
      "C:\\Users\\natha\\AppData\\Local\\Temp\\ipykernel_11852\\1393899242.py:8: DtypeWarning: Columns (7,17,18,21,22,24,29,32,39,47,51,53,54,55,56,57) have mixed types. Specify dtype option on import or set low_memory=False.\n",
      "  postcodes_df = pd.read_csv(os.path.join(path,postcodes)) #,dtype=dtypes, parse_dates=parse_dates)\n"
     ]
    }
   ],
   "source": [
    "# File name\n",
    "import pandas as pd\n",
    "import os\n",
    "postcodes = 'postcodes.csv'\n",
    "\n",
    "# Read files into memory \n",
    "path ='C:\\\\Users\\\\natha\\\\.cache\\\\kagglehub\\\\datasets\\\\nathanhg\\\\uk-gam-datasets\\\\versions\\\\1'\n",
    "postcodes_df = pd.read_csv(os.path.join(path,postcodes)) #,dtype=dtypes, parse_dates=parse_dates)"
   ]
  },
  {
   "cell_type": "code",
   "execution_count": 2,
   "metadata": {},
   "outputs": [],
   "source": [
    "# Formatting columns\n",
    "postcodes_df.columns = postcodes_df.columns.map(lambda col: col.replace(' ','_').lower())\n",
    "\n",
    "# Asserting data types\n",
    "dtypes = {\n",
    "    \"postcode\": \"string\",\n",
    "    \"in_use?\": \"string\",\n",
    "    \"latitude\": \"float\",\n",
    "    \"longitude\": \"float\",\n",
    "    \"easting\": \"float\",\n",
    "    \"northing\": \"float\",\n",
    "    \"grid_ref\": \"string\",\n",
    "    \"county\": \"string\",\n",
    "    \"district\": \"string\",\n",
    "    \"ward\": \"string\",\n",
    "    \"district_code\": \"string\",\n",
    "    \"ward_code\": \"string\",\n",
    "    \"country\": \"string\",\n",
    "    \"county_code\": \"string\",\n",
    "    \"constituency\": \"string\",\n",
    "    \"parish\": \"string\",\n",
    "    \"national_park\": \"string\",\n",
    "    \"population\": \"float\",\n",
    "    \"households\": \"float\",\n",
    "    \"built_up_area\": \"string\",\n",
    "    \"built_up_sub-division\": \"string\",\n",
    "    \"lower_layer_super_output_area\": \"string\",\n",
    "    \"rural/urban\": \"string\",\n",
    "    \"region\": \"string\",\n",
    "    \"altitude\": \"float\",\n",
    "    \"london_zone\": \"string\",\n",
    "    \"lsoa_code\": \"string\",\n",
    "    \"local_authority\": \"string\",\n",
    "    \"msoa_code\": \"string\",\n",
    "    \"middle_layer_super_output_area\": \"string\",\n",
    "    \"parish_code\": \"string\",\n",
    "    \"census_output_area\": \"string\",\n",
    "    \"constituency_code\": \"string\",\n",
    "    \"index_of_multiple_deprivation\": \"float\",\n",
    "    \"quality\": \"string\",\n",
    "    \"user_type\": \"string\",\n",
    "    \"nearest_station\": \"string\",\n",
    "    \"distance_to_station\": \"float\",\n",
    "    \"postcode_area\": \"string\",\n",
    "    \"postcode_district\": \"string\",\n",
    "    \"police_force\": \"string\",\n",
    "    \"water_company\": \"string\",\n",
    "    \"plus_code\": \"string\",\n",
    "    \"average_income\": \"float\",\n",
    "    \"sewage_company\": \"string\",\n",
    "    \"travel_to_work_area\": \"string\",\n",
    "    \"itl_level_2\": \"string\",\n",
    "    \"itl_level_3\": \"string\",\n",
    "    \"uprns\": \"string\",\n",
    "    \"distance_to_sea\": \"float\",\n",
    "    \"lsoa21_code\": \"string\",\n",
    "    \"lower_layer_super_output_area_2021\": \"string\",\n",
    "    \"msoa21_code\": \"string\",\n",
    "    \"middle_layer_super_output_area_2021\": \"string\",\n",
    "    \"census_output_area_2021\": \"string\",\n",
    "}\n",
    "\n",
    "parse_dates = [\"introduced\", \"terminated\", \"last_updated\"]\n",
    "\n",
    "postcodes_df = postcodes_df.astype(dtypes)\n",
    "\n",
    "# Parse date columns\n",
    "for col in parse_dates:\n",
    "    if col in postcodes_df.columns:\n",
    "        postcodes_df[col] = pd.to_datetime(postcodes_df[col], errors='coerce')"
   ]
  },
  {
   "cell_type": "markdown",
   "metadata": {},
   "source": [
    "26,70,304 records of Postcodes excluding those without Constituencies. "
   ]
  },
  {
   "cell_type": "markdown",
   "metadata": {},
   "source": [
    "### Data Profiling"
   ]
  },
  {
   "cell_type": "markdown",
   "metadata": {},
   "source": [
    "##### Overview"
   ]
  },
  {
   "cell_type": "code",
   "execution_count": null,
   "metadata": {},
   "outputs": [],
   "source": [
    "# from ydata_profiling import ProfileReport\n",
    "\n",
    "\n",
    "# profile = ProfileReport(postcodes_df, title=\"Pandas Profiling Report\", type_schema={\n",
    "#  \"postcode\": \"categorical\",\n",
    "#         \"in_use?\": \"categorical\",\n",
    "#         \"latitude\": \"numeric\",\n",
    "#         \"longitude\": \"numeric\",\n",
    "#         \"easting\": \"numeric\",\n",
    "#         \"northing\": \"numeric\",\n",
    "#         \"grid_ref\": \"categorical\",\n",
    "#         \"county\": \"categorical\",\n",
    "#         \"district\": \"categorical\",\n",
    "#         \"ward\": \"categorical\",\n",
    "#         \"district_code\": \"categorical\",\n",
    "#         \"ward_code\": \"categorical\",\n",
    "#         \"country\": \"categorical\",\n",
    "#         \"county_code\": \"categorical\",\n",
    "#         \"constituency\": \"categorical\",\n",
    "#         \"introduced\": \"datetime\",\n",
    "#         \"terminated\": \"datetime\",\n",
    "#         \"parish\": \"categorical\",\n",
    "#         \"national_park\": \"categorical\",\n",
    "#         \"population\": \"numeric\",\n",
    "#         \"households\": \"numeric\",\n",
    "#         \"built_up_area\": \"categorical\",\n",
    "#         \"built_up_sub-division\": \"categorical\",\n",
    "#         \"lower_layer_super_output_area\": \"categorical\",\n",
    "#         \"rural/urban\": \"categorical\",\n",
    "#         \"region\": \"categorical\",\n",
    "#         \"altitude\": \"numeric\",\n",
    "#         \"london_zone\": \"categorical\",\n",
    "#         \"lsoa_code\": \"categorical\",\n",
    "#         \"local_authority\": \"categorical\",\n",
    "#         \"msoa_code\": \"categorical\",\n",
    "#         \"middle_layer_super_output_area\": \"categorical\",\n",
    "#         \"parish_code\": \"categorical\",\n",
    "#         \"census_output_area\": \"categorical\",\n",
    "#         \"constituency_code\": \"categorical\",\n",
    "#         \"index_of_multiple_deprivation\": \"numeric\",\n",
    "#         \"quality\": \"categorical\",\n",
    "#         \"user_type\": \"categorical\",\n",
    "#         \"last_updated\": \"datetime\",\n",
    "#         \"nearest_station\": \"categorical\",\n",
    "#         \"distance_to_station\": \"numeric\",\n",
    "#         \"postcode_area\": \"categorical\",\n",
    "#         \"postcode_district\": \"categorical\",\n",
    "#         \"police_force\": \"categorical\",\n",
    "#         \"water_company\": \"categorical\",\n",
    "#         \"plus_code\": \"categorical\",\n",
    "#         \"average_income\": \"numeric\",\n",
    "#         \"sewage_company\": \"categorical\",\n",
    "#         \"travel_to_work_area\": \"categorical\",\n",
    "#         \"itl_level_2\": \"categorical\",\n",
    "#         \"itl_level_3\": \"categorical\",\n",
    "#         \"uprns\": \"categorical\",\n",
    "#         \"distance_to_sea\": \"numeric\",\n",
    "#         \"lsoa21_code\": \"categorical\",\n",
    "#         \"lower_layer_super_output_area_2021\": \"categorical\",\n",
    "#         \"msoa21_code\": \"categorical\",\n",
    "#         \"middle_layer_super_output_area_2021\": \"categorical\",\n",
    "#         \"census_output_area_2021\": \"categorical\",\n",
    "#     })\n",
    "# profile"
   ]
  },
  {
   "cell_type": "markdown",
   "metadata": {},
   "source": [
    "❔ What is the correlation between Average Income and Index of Multiple Deprivations (IMD)? \n",
    "+ 💡 There is a 0.639 strong positive correlation. Context: IMD score 0 is the highest score for deprevation, when this is low Avg Income is low, when it's higher (meaning less deprived) average income is higher.   \n",
    "\n",
    "❔ What is the correlation between Population and Index of Multiple Deprivations (IMD)? \n",
    "+ 💡 There is a -0.032 weak negative correlation. This means when there is virtually no linear realtionship between these variables."
   ]
  },
  {
   "cell_type": "markdown",
   "metadata": {},
   "source": [
    "### Prototype Imputation Strategies"
   ]
  },
  {
   "cell_type": "markdown",
   "metadata": {},
   "source": [
    "❔ 10,847 rows have missing constituencies is there a reason?"
   ]
  },
  {
   "cell_type": "code",
   "execution_count": 4,
   "metadata": {},
   "outputs": [],
   "source": [
    "no_contituencies= postcodes_df[postcodes_df.constituency.isna()]"
   ]
  },
  {
   "cell_type": "code",
   "execution_count": null,
   "metadata": {},
   "outputs": [],
   "source": [
    "# nc_profile = ProfileReport(no_contituencies, title=\"Pandas Profiling Report\", type_schema={\n",
    "#  \"postcode\": \"categorical\",\n",
    "#         \"in_use?\": \"categorical\",\n",
    "#         \"latitude\": \"numeric\",\n",
    "#         \"longitude\": \"numeric\",\n",
    "#         \"easting\": \"numeric\",\n",
    "#         \"northing\": \"numeric\",\n",
    "#         \"grid_ref\": \"categorical\",\n",
    "#         \"county\": \"categorical\",\n",
    "#         \"district\": \"categorical\",\n",
    "#         \"ward\": \"categorical\",\n",
    "#         \"district_code\": \"categorical\",\n",
    "#         \"ward_code\": \"categorical\",\n",
    "#         \"country\": \"categorical\",\n",
    "#         \"county_code\": \"categorical\",\n",
    "#         \"constituency\": \"categorical\",\n",
    "#         \"introduced\": \"datetime\",\n",
    "#         \"terminated\": \"datetime\",\n",
    "#         \"parish\": \"categorical\",\n",
    "#         \"national_park\": \"categorical\",\n",
    "#         \"population\": \"numeric\",\n",
    "#         \"households\": \"numeric\",\n",
    "#         \"built_up_area\": \"categorical\",\n",
    "#         \"built_up_sub-division\": \"categorical\",\n",
    "#         \"lower_layer_super_output_area\": \"categorical\",\n",
    "#         \"rural/urban\": \"categorical\",\n",
    "#         \"region\": \"categorical\",\n",
    "#         \"altitude\": \"numeric\",\n",
    "#         \"london_zone\": \"categorical\",\n",
    "#         \"lsoa_code\": \"categorical\",\n",
    "#         \"local_authority\": \"categorical\",\n",
    "#         \"msoa_code\": \"categorical\",\n",
    "#         \"middle_layer_super_output_area\": \"categorical\",\n",
    "#         \"parish_code\": \"categorical\",\n",
    "#         \"census_output_area\": \"categorical\",\n",
    "#         \"constituency_code\": \"categorical\",\n",
    "#         \"index_of_multiple_deprivation\": \"numeric\",\n",
    "#         \"quality\": \"categorical\",\n",
    "#         \"user_type\": \"categorical\",\n",
    "#         \"last_updated\": \"datetime\",\n",
    "#         \"nearest_station\": \"categorical\",\n",
    "#         \"distance_to_station\": \"numeric\",\n",
    "#         \"postcode_area\": \"categorical\",\n",
    "#         \"postcode_district\": \"categorical\",\n",
    "#         \"police_force\": \"categorical\",\n",
    "#         \"water_company\": \"categorical\",\n",
    "#         \"plus_code\": \"categorical\",\n",
    "#         \"average_income\": \"numeric\",\n",
    "#         \"sewage_company\": \"categorical\",\n",
    "#         \"travel_to_work_area\": \"categorical\",\n",
    "#         \"itl_level_2\": \"categorical\",\n",
    "#         \"itl_level_3\": \"categorical\",\n",
    "#         \"uprns\": \"categorical\",\n",
    "#         \"distance_to_sea\": \"numeric\",\n",
    "#         \"lsoa21_code\": \"categorical\",\n",
    "#         \"lower_layer_super_output_area_2021\": \"categorical\",\n",
    "#         \"msoa21_code\": \"categorical\",\n",
    "#         \"middle_layer_super_output_area_2021\": \"categorical\",\n",
    "#         \"census_output_area_2021\": \"categorical\",\n",
    "#     })\n",
    "# nc_profile"
   ]
  },
  {
   "cell_type": "markdown",
   "metadata": {},
   "source": [
    "+ 💡 Records with missing Constituencies also have constant Populations at 14, constant Households at 6, constant\n",
    "London Zones of 3, and constant IMDs Scores of 0 with a few more contants in other variables and missing Average Income values.\n",
    "\n",
    "Once joined to the premises dataset we can identify the premises with missing constituencies and impute these through web scraping: [FindYourMP](https://members.parliament.uk/findyourmp/)"
   ]
  },
  {
   "cell_type": "markdown",
   "metadata": {},
   "source": [
    "##### Missing Values"
   ]
  },
  {
   "cell_type": "markdown",
   "metadata": {},
   "source": [
    "This data will be joined to Premises data so these columns can be considered NMAR for now - no imputation required."
   ]
  },
  {
   "cell_type": "markdown",
   "metadata": {},
   "source": [
    "### Data Modelling"
   ]
  },
  {
   "cell_type": "markdown",
   "metadata": {},
   "source": [
    "##### Slowly Changing Dimensions - Suggestion"
   ]
  },
  {
   "cell_type": "markdown",
   "metadata": {},
   "source": [
    "This dataset gets updated and status columns like 'in_use?' may change so consider SCD Type 2 for a 'dim_current_postcodes' table."
   ]
  },
  {
   "cell_type": "markdown",
   "metadata": {},
   "source": [
    "##### SQL Implementation"
   ]
  },
  {
   "cell_type": "code",
   "execution_count": 6,
   "metadata": {},
   "outputs": [],
   "source": [
    "# Defining a uniqueness test\n",
    "\n",
    "def test_distinct_id(df,id):\n",
    "    \"\"\"\n",
    "    Function for testing uniqueness of a field within a dataframe\n",
    "    params:\n",
    "    df(pd.Dataframe): The dataframe being tested\n",
    "    id: The field being tested for uniqueness\n",
    "    \"\"\"\n",
    "    value_counts = df[id].value_counts().reset_index()\n",
    "    value_counts.columns = [id, 'count']\n",
    "    duplicates= value_counts[value_counts['count']>1]\n",
    "    if duplicates.empty:\n",
    "        print(f'{id} is distinct')\n",
    "        return None\n",
    "    else:\n",
    "        print('Duplicate IDs found:')\n",
    "        print(duplicates)\n",
    "        return None"
   ]
  },
  {
   "cell_type": "markdown",
   "metadata": {},
   "source": [
    "EDR identifies key entities and explains the relationships between them "
   ]
  },
  {
   "cell_type": "code",
   "execution_count": 7,
   "metadata": {},
   "outputs": [],
   "source": [
    "postcodes_df.rename(columns={'in_use?':'in_use'}, inplace=True)"
   ]
  },
  {
   "cell_type": "code",
   "execution_count": 8,
   "metadata": {},
   "outputs": [
    {
     "name": "stdout",
     "output_type": "stream",
     "text": [
      "postcodeid is distinct\n"
     ]
    }
   ],
   "source": [
    "import duckdb \n",
    "\n",
    "# Create dim_accounts table  \n",
    "da_query =  \"\"\" \n",
    "SELECT \n",
    "    --DISTINCT \n",
    "    md5(postcode) as postcodeid,\t\n",
    "    postcode,\n",
    "    postcode_area,\n",
    "    postcode_district,\n",
    "    in_use,\n",
    "    latitude,\n",
    "    longitude,\n",
    "    constituency,\n",
    "    average_income,\n",
    "    population,\n",
    "    households,\n",
    "    distance_to_station,\n",
    "    index_of_multiple_deprivation\n",
    "FROM postcodes_df\n",
    "\"\"\"\n",
    "dim_postcodes = duckdb.query(da_query).to_df()\n",
    "\n",
    "# Unique ID test\n",
    "\n",
    "test_distinct_id(dim_postcodes,'postcodeid')\n"
   ]
  },
  {
   "cell_type": "code",
   "execution_count": 15,
   "metadata": {},
   "outputs": [
    {
     "data": {
      "text/html": [
       "<div>\n",
       "<style scoped>\n",
       "    .dataframe tbody tr th:only-of-type {\n",
       "        vertical-align: middle;\n",
       "    }\n",
       "\n",
       "    .dataframe tbody tr th {\n",
       "        vertical-align: top;\n",
       "    }\n",
       "\n",
       "    .dataframe thead th {\n",
       "        text-align: right;\n",
       "    }\n",
       "</style>\n",
       "<table border=\"1\" class=\"dataframe\">\n",
       "  <thead>\n",
       "    <tr style=\"text-align: right;\">\n",
       "      <th></th>\n",
       "      <th>constituency</th>\n",
       "      <th>index_of_multiple_deprivation</th>\n",
       "    </tr>\n",
       "  </thead>\n",
       "  <tbody>\n",
       "    <tr>\n",
       "      <th>0</th>\n",
       "      <td>Cities of London and Westminster</td>\n",
       "      <td>3324.0</td>\n",
       "    </tr>\n",
       "    <tr>\n",
       "      <th>1</th>\n",
       "      <td>Witney</td>\n",
       "      <td>10454.0</td>\n",
       "    </tr>\n",
       "    <tr>\n",
       "      <th>2</th>\n",
       "      <td>Henley</td>\n",
       "      <td>12149.0</td>\n",
       "    </tr>\n",
       "    <tr>\n",
       "      <th>3</th>\n",
       "      <td>Newbury</td>\n",
       "      <td>5633.0</td>\n",
       "    </tr>\n",
       "    <tr>\n",
       "      <th>4</th>\n",
       "      <td>North East Hampshire</td>\n",
       "      <td>16481.0</td>\n",
       "    </tr>\n",
       "    <tr>\n",
       "      <th>5</th>\n",
       "      <td>Wokingham</td>\n",
       "      <td>6847.0</td>\n",
       "    </tr>\n",
       "    <tr>\n",
       "      <th>6</th>\n",
       "      <td>Holborn and St Pancras</td>\n",
       "      <td>4006.0</td>\n",
       "    </tr>\n",
       "    <tr>\n",
       "      <th>7</th>\n",
       "      <td>Huntingdon</td>\n",
       "      <td>6125.0</td>\n",
       "    </tr>\n",
       "    <tr>\n",
       "      <th>8</th>\n",
       "      <td>York Outer</td>\n",
       "      <td>7237.0</td>\n",
       "    </tr>\n",
       "    <tr>\n",
       "      <th>9</th>\n",
       "      <td>South West Hertfordshire</td>\n",
       "      <td>4265.0</td>\n",
       "    </tr>\n",
       "  </tbody>\n",
       "</table>\n",
       "</div>"
      ],
      "text/plain": [
       "                       constituency  index_of_multiple_deprivation\n",
       "0  Cities of London and Westminster                         3324.0\n",
       "1                            Witney                        10454.0\n",
       "2                            Henley                        12149.0\n",
       "3                           Newbury                         5633.0\n",
       "4              North East Hampshire                        16481.0\n",
       "5                         Wokingham                         6847.0\n",
       "6            Holborn and St Pancras                         4006.0\n",
       "7                        Huntingdon                         6125.0\n",
       "8                        York Outer                         7237.0\n",
       "9          South West Hertfordshire                         4265.0"
      ]
     },
     "execution_count": 15,
     "metadata": {},
     "output_type": "execute_result"
    }
   ],
   "source": [
    "# Create dim_accounts table  \n",
    "da_query =  \"\"\" \n",
    "SELECT \n",
    "    constituency,\n",
    "    min(index_of_multiple_deprivation) AS index_of_multiple_deprivation\n",
    "FROM postcodes_df\n",
    "GROUP BY constituency\n",
    "ORDER BY sum(index_of_multiple_deprivation) desc\n",
    "\"\"\"\n",
    "agg_dim_postcodes = duckdb.query(da_query).to_df()\n",
    "\n",
    "# Unique ID test\n",
    "\n",
    "# test_distinct_id(agg_dim_postcodes,'constituency')\n",
    "\n",
    "agg_dim_postcodes.head(10)\n"
   ]
  }
 ],
 "metadata": {
  "kernelspec": {
   "display_name": "v_env_folder",
   "language": "python",
   "name": "python3"
  },
  "language_info": {
   "codemirror_mode": {
    "name": "ipython",
    "version": 3
   },
   "file_extension": ".py",
   "mimetype": "text/x-python",
   "name": "python",
   "nbconvert_exporter": "python",
   "pygments_lexer": "ipython3",
   "version": "3.12.4"
  }
 },
 "nbformat": 4,
 "nbformat_minor": 2
}
