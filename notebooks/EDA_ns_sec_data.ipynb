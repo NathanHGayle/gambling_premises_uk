{
 "cells": [
  {
   "cell_type": "markdown",
   "metadata": {},
   "source": [
    "### Exploratory Data Analysis: \n"
   ]
  },
  {
   "cell_type": "markdown",
   "metadata": {},
   "source": [
    "### SetUp"
   ]
  },
  {
   "cell_type": "markdown",
   "metadata": {},
   "source": [
    "Import datasets into memory"
   ]
  },
  {
   "cell_type": "code",
   "execution_count": 1,
   "metadata": {},
   "outputs": [],
   "source": [
    "import pandas as pd\n",
    "import os\n",
    "\n",
    "# File name \n",
    "nssec_data = 'NS-SEC_2021.xlsx'\n",
    "\n",
    "# Path\n",
    "path = 'C:\\\\Users\\\\natha\\\\.cache\\\\kagglehub\\\\datasets\\\\nathanhg\\\\uk-gam-datasets\\\\versions\\\\1'\n",
    "\n",
    "# Read files into memory \n",
    "\n",
    "nsec_df = pd.read_excel(os.path.join(path,nssec_data))\n"
   ]
  },
  {
   "cell_type": "code",
   "execution_count": 2,
   "metadata": {},
   "outputs": [
    {
     "data": {
      "text/plain": [
       "Index(['onsconstid', 'constituencyname', 'regnationid', 'regnationname',\n",
       "       'natcomparator', 'variables', 'groups', 'con_num', 'con_pc', 'rn_pc',\n",
       "       'nat_pc', 'ranking_total', 'rank'],\n",
       "      dtype='object')"
      ]
     },
     "execution_count": 2,
     "metadata": {},
     "output_type": "execute_result"
    }
   ],
   "source": [
    "# Formatting columns\n",
    "nsec_df.columns = nsec_df.columns.map(lambda col: col.replace(' ','_').lower())\n",
    "nsec_df.columns"
   ]
  },
  {
   "cell_type": "markdown",
   "metadata": {},
   "source": [
    "### Data Profiling"
   ]
  },
  {
   "cell_type": "code",
   "execution_count": 3,
   "metadata": {},
   "outputs": [
    {
     "data": {
      "text/html": [
       "<div>\n",
       "<style scoped>\n",
       "    .dataframe tbody tr th:only-of-type {\n",
       "        vertical-align: middle;\n",
       "    }\n",
       "\n",
       "    .dataframe tbody tr th {\n",
       "        vertical-align: top;\n",
       "    }\n",
       "\n",
       "    .dataframe thead th {\n",
       "        text-align: right;\n",
       "    }\n",
       "</style>\n",
       "<table border=\"1\" class=\"dataframe\">\n",
       "  <thead>\n",
       "    <tr style=\"text-align: right;\">\n",
       "      <th></th>\n",
       "      <th>onsconstid</th>\n",
       "      <th>constituencyname</th>\n",
       "      <th>regnationid</th>\n",
       "      <th>regnationname</th>\n",
       "      <th>natcomparator</th>\n",
       "      <th>variables</th>\n",
       "      <th>groups</th>\n",
       "      <th>con_num</th>\n",
       "      <th>con_pc</th>\n",
       "      <th>rn_pc</th>\n",
       "      <th>nat_pc</th>\n",
       "      <th>ranking_total</th>\n",
       "      <th>rank</th>\n",
       "    </tr>\n",
       "  </thead>\n",
       "  <tbody>\n",
       "    <tr>\n",
       "      <th>0</th>\n",
       "      <td>E14000530</td>\n",
       "      <td>Aldershot</td>\n",
       "      <td>E12000008</td>\n",
       "      <td>South East</td>\n",
       "      <td>England &amp; Wales</td>\n",
       "      <td>Higher managerial, administrative and professi...</td>\n",
       "      <td>Managerial, administrative and professional oc...</td>\n",
       "      <td>11636</td>\n",
       "      <td>0.128602</td>\n",
       "      <td>0.156598</td>\n",
       "      <td>0.130829</td>\n",
       "      <td>0.337408</td>\n",
       "      <td>253</td>\n",
       "    </tr>\n",
       "    <tr>\n",
       "      <th>1</th>\n",
       "      <td>E14000530</td>\n",
       "      <td>Aldershot</td>\n",
       "      <td>E12000008</td>\n",
       "      <td>South East</td>\n",
       "      <td>England &amp; Wales</td>\n",
       "      <td>Lower managerial, administrative and professio...</td>\n",
       "      <td>Managerial, administrative and professional oc...</td>\n",
       "      <td>18893</td>\n",
       "      <td>0.208806</td>\n",
       "      <td>0.218946</td>\n",
       "      <td>0.199105</td>\n",
       "      <td>0.337408</td>\n",
       "      <td>253</td>\n",
       "    </tr>\n",
       "    <tr>\n",
       "      <th>2</th>\n",
       "      <td>E14000530</td>\n",
       "      <td>Aldershot</td>\n",
       "      <td>E12000008</td>\n",
       "      <td>South East</td>\n",
       "      <td>England &amp; Wales</td>\n",
       "      <td>Intermediate occupations</td>\n",
       "      <td>Intermediate occupations</td>\n",
       "      <td>12310</td>\n",
       "      <td>0.136051</td>\n",
       "      <td>0.120724</td>\n",
       "      <td>0.114306</td>\n",
       "      <td>0.230380</td>\n",
       "      <td>245</td>\n",
       "    </tr>\n",
       "    <tr>\n",
       "      <th>3</th>\n",
       "      <td>E14000530</td>\n",
       "      <td>Aldershot</td>\n",
       "      <td>E12000008</td>\n",
       "      <td>South East</td>\n",
       "      <td>England &amp; Wales</td>\n",
       "      <td>Small employers and own account workers</td>\n",
       "      <td>Intermediate occupations</td>\n",
       "      <td>8535</td>\n",
       "      <td>0.094329</td>\n",
       "      <td>0.116142</td>\n",
       "      <td>0.105661</td>\n",
       "      <td>0.230380</td>\n",
       "      <td>245</td>\n",
       "    </tr>\n",
       "    <tr>\n",
       "      <th>4</th>\n",
       "      <td>E14000530</td>\n",
       "      <td>Aldershot</td>\n",
       "      <td>E12000008</td>\n",
       "      <td>South East</td>\n",
       "      <td>England &amp; Wales</td>\n",
       "      <td>Lower supervisory and technical occupations</td>\n",
       "      <td>Routine and manual occupations</td>\n",
       "      <td>5617</td>\n",
       "      <td>0.062079</td>\n",
       "      <td>0.050808</td>\n",
       "      <td>0.053959</td>\n",
       "      <td>0.303069</td>\n",
       "      <td>254</td>\n",
       "    </tr>\n",
       "  </tbody>\n",
       "</table>\n",
       "</div>"
      ],
      "text/plain": [
       "  onsconstid constituencyname regnationid regnationname    natcomparator  \\\n",
       "0  E14000530        Aldershot   E12000008    South East  England & Wales   \n",
       "1  E14000530        Aldershot   E12000008    South East  England & Wales   \n",
       "2  E14000530        Aldershot   E12000008    South East  England & Wales   \n",
       "3  E14000530        Aldershot   E12000008    South East  England & Wales   \n",
       "4  E14000530        Aldershot   E12000008    South East  England & Wales   \n",
       "\n",
       "                                           variables  \\\n",
       "0  Higher managerial, administrative and professi...   \n",
       "1  Lower managerial, administrative and professio...   \n",
       "2                           Intermediate occupations   \n",
       "3            Small employers and own account workers   \n",
       "4        Lower supervisory and technical occupations   \n",
       "\n",
       "                                              groups  con_num    con_pc  \\\n",
       "0  Managerial, administrative and professional oc...    11636  0.128602   \n",
       "1  Managerial, administrative and professional oc...    18893  0.208806   \n",
       "2                           Intermediate occupations    12310  0.136051   \n",
       "3                           Intermediate occupations     8535  0.094329   \n",
       "4                     Routine and manual occupations     5617  0.062079   \n",
       "\n",
       "      rn_pc    nat_pc  ranking_total  rank  \n",
       "0  0.156598  0.130829       0.337408   253  \n",
       "1  0.218946  0.199105       0.337408   253  \n",
       "2  0.120724  0.114306       0.230380   245  \n",
       "3  0.116142  0.105661       0.230380   245  \n",
       "4  0.050808  0.053959       0.303069   254  "
      ]
     },
     "execution_count": 3,
     "metadata": {},
     "output_type": "execute_result"
    }
   ],
   "source": [
    "nsec_df.head()"
   ]
  },
  {
   "cell_type": "markdown",
   "metadata": {},
   "source": [
    "##### Overview"
   ]
  },
  {
   "cell_type": "code",
   "execution_count": 4,
   "metadata": {},
   "outputs": [],
   "source": [
    "# from ydata_profiling import ProfileReport\n",
    "\n",
    "\n",
    "# profile = ProfileReport(nsec_df, title=\"Pandas Profiling Report\", type_schema={\n",
    "#         \"onsconstid\": \"categorical\",\n",
    "#         \"constituencyname\": \"categorical\",\n",
    "#         \"regnationid\": \"categorical\",\n",
    "#         \"regnationname\": \"categorical\",\n",
    "#         \"natcomparator\": \"categorical\",\n",
    "#         \"groups\":\"categorical\",\n",
    "#         \"variables\": \"categorical\",\n",
    "#         \"con_num\": \"numeric\",\n",
    "#         \"con_pc\": \"numeric\",\n",
    "#         \"rn_pc\": \"numeric\",\n",
    "#         \"nat_pc\": \"numeric\",\n",
    "#         \"ranking_total\":\"numeric\",\n",
    "#         \"rank\":\"numeric\"\n",
    "        \n",
    "#     })\n",
    "# profile"
   ]
  },
  {
   "cell_type": "markdown",
   "metadata": {},
   "source": [
    "❔ What are the key metrics?\n",
    "+ 💡Con_num is the constituency population as an int"
   ]
  },
  {
   "cell_type": "markdown",
   "metadata": {},
   "source": [
    "### Create a View (Reshape)\n"
   ]
  },
  {
   "cell_type": "code",
   "execution_count": 5,
   "metadata": {},
   "outputs": [
    {
     "data": {
      "text/plain": [
       "variables\n",
       "Higher managerial, administrative and professional occupations    573\n",
       "Lower managerial, administrative and professional occupations     573\n",
       "Intermediate occupations                                          573\n",
       "Small employers and own account workers                           573\n",
       "Lower supervisory and technical occupations                       573\n",
       "Semi-routine occupations                                          573\n",
       "Routine occupations                                               573\n",
       "Never worked / long-term unemployed                               573\n",
       "Full-time students                                                573\n",
       "Name: count, dtype: int64"
      ]
     },
     "execution_count": 5,
     "metadata": {},
     "output_type": "execute_result"
    }
   ],
   "source": [
    "s = 'gambling-premises-data.silver_ew.clean_national_socio_economic_class'\n",
    "s2 = 'Not found: Table gambling-premises-data:silver_ew.src_national_socio_economic_class was not found in location europe-west2.'\n",
    "s3 = 'Not found: Table gambling-premises-data:silver_ew.clean_national_socio_economic_class was not found in location europe-west2.'"
   ]
  },
  {
   "cell_type": "code",
   "execution_count": 6,
   "metadata": {},
   "outputs": [],
   "source": [
    "nsec_df['group_variable'] = nsec_df.apply(\n",
    "    lambda row: row['groups'] if row['groups'] == row['variables'] else f\"{row['groups']}_{row['variables']}\",\n",
    "    axis=1\n",
    ")"
   ]
  },
  {
   "cell_type": "code",
   "execution_count": 7,
   "metadata": {},
   "outputs": [],
   "source": [
    "nsec_df_piv = nsec_df.pivot(index=[\"onsconstid\", \"constituencyname\"],columns=[\"group_variable\"], values='con_num').reset_index()"
   ]
  },
  {
   "cell_type": "markdown",
   "metadata": {},
   "source": [
    "Profile this view"
   ]
  },
  {
   "cell_type": "code",
   "execution_count": 8,
   "metadata": {},
   "outputs": [],
   "source": [
    "\n",
    "# from ydata_profiling import ProfileReport\n",
    "\n",
    "\n",
    "# profile = ProfileReport(nsec_df_piv, title=\"Pandas Profiling Report\")\n",
    "# profile"
   ]
  },
  {
   "cell_type": "markdown",
   "metadata": {},
   "source": [
    "Use SQL with DBT for the following str manipulation"
   ]
  },
  {
   "cell_type": "code",
   "execution_count": 9,
   "metadata": {},
   "outputs": [],
   "source": [
    "nsec_df_piv.columns = nsec_df_piv.columns.str.replace(',', '_').str.replace('/','_').str.replace(' ', '_').str.replace('-', '_').str.lower()\n"
   ]
  },
  {
   "cell_type": "markdown",
   "metadata": {},
   "source": [
    "##### SQL Implementation"
   ]
  },
  {
   "cell_type": "code",
   "execution_count": 10,
   "metadata": {},
   "outputs": [],
   "source": [
    "# Defining a uniqueness test\n",
    "\n",
    "def test_distinct_id(df,id):\n",
    "    \"\"\"\n",
    "    Function for testing uniqueness of a field within a dataframe\n",
    "    params:\n",
    "    df(pd.Dataframe): The dataframe being tested\n",
    "    id: The field being tested for uniqueness\n",
    "    \"\"\"\n",
    "    value_counts = df[id].value_counts().reset_index()\n",
    "    value_counts.columns = [id, 'count']\n",
    "    duplicates= value_counts[value_counts['count']>1]\n",
    "    if duplicates.empty:\n",
    "        print(f'{id} is distinct')\n",
    "        return None\n",
    "    else:\n",
    "        print('Duplicate IDs found:')\n",
    "        print(duplicates)\n",
    "        return None"
   ]
  },
  {
   "cell_type": "code",
   "execution_count": 11,
   "metadata": {},
   "outputs": [
    {
     "name": "stdout",
     "output_type": "stream",
     "text": [
      "constituencyid is distinct\n"
     ]
    }
   ],
   "source": [
    "import duckdb \n",
    "\n",
    "# Create dim_accounts table  \n",
    "da_query =  \"\"\" \n",
    "SELECT  \n",
    "    onsconstid as constituencyid,\n",
    "    constituencyname,\n",
    "    full_time_students, \n",
    "    intermediate_occupations,\n",
    "    intermediate_occupations_small_employers_and_own_account_workers,\n",
    "    managerial__administrative_and_professional_occupations_higher_managerial__administrative_and_professional_occupations,\n",
    "    managerial__administrative_and_professional_occupations_lower_managerial__administrative_and_professional_occupations,\n",
    "    never_worked___long_term_unemployed,\n",
    "    routine_and_manual_occupations_lower_supervisory_and_technical_occupations,\n",
    "    routine_and_manual_occupations_routine_occupations,\n",
    "    routine_and_manual_occupations_semi_routine_occupations\n",
    "FROM nsec_df_piv\n",
    "\"\"\"\n",
    "dim_nsec = duckdb.query(da_query).to_df()\n",
    "\n",
    "# Unique ID test\n",
    "\n",
    "test_distinct_id(dim_nsec,'constituencyid')\n"
   ]
  },
  {
   "cell_type": "code",
   "execution_count": 12,
   "metadata": {},
   "outputs": [
    {
     "data": {
      "text/html": [
       "<div>\n",
       "<style scoped>\n",
       "    .dataframe tbody tr th:only-of-type {\n",
       "        vertical-align: middle;\n",
       "    }\n",
       "\n",
       "    .dataframe tbody tr th {\n",
       "        vertical-align: top;\n",
       "    }\n",
       "\n",
       "    .dataframe thead th {\n",
       "        text-align: right;\n",
       "    }\n",
       "</style>\n",
       "<table border=\"1\" class=\"dataframe\">\n",
       "  <thead>\n",
       "    <tr style=\"text-align: right;\">\n",
       "      <th></th>\n",
       "      <th>full_time_students</th>\n",
       "      <th>intermediate_occupations</th>\n",
       "      <th>intermediate_occupations_small_employers_and_own_account_workers</th>\n",
       "      <th>managerial__administrative_and_professional_occupations_higher_managerial__administrative_and_professional_occupations</th>\n",
       "      <th>managerial__administrative_and_professional_occupations_lower_managerial__administrative_and_professional_occupations</th>\n",
       "      <th>never_worked___long_term_unemployed</th>\n",
       "      <th>routine_and_manual_occupations_lower_supervisory_and_technical_occupations</th>\n",
       "      <th>routine_and_manual_occupations_routine_occupations</th>\n",
       "      <th>routine_and_manual_occupations_semi_routine_occupations</th>\n",
       "    </tr>\n",
       "  </thead>\n",
       "  <tbody>\n",
       "    <tr>\n",
       "      <th>count</th>\n",
       "      <td>573.000000</td>\n",
       "      <td>573.00000</td>\n",
       "      <td>573.000000</td>\n",
       "      <td>573.000000</td>\n",
       "      <td>573.000000</td>\n",
       "      <td>573.000000</td>\n",
       "      <td>573.000000</td>\n",
       "      <td>573.000000</td>\n",
       "      <td>573.000000</td>\n",
       "    </tr>\n",
       "    <tr>\n",
       "      <th>mean</th>\n",
       "      <td>6503.387435</td>\n",
       "      <td>9688.34904</td>\n",
       "      <td>8955.591623</td>\n",
       "      <td>11088.855148</td>\n",
       "      <td>16875.739965</td>\n",
       "      <td>7214.572426</td>\n",
       "      <td>4573.465969</td>\n",
       "      <td>10226.813264</td>\n",
       "      <td>9631.280977</td>\n",
       "    </tr>\n",
       "    <tr>\n",
       "      <th>std</th>\n",
       "      <td>4869.217877</td>\n",
       "      <td>1678.78043</td>\n",
       "      <td>2469.321916</td>\n",
       "      <td>5011.366438</td>\n",
       "      <td>3662.285527</td>\n",
       "      <td>3076.346716</td>\n",
       "      <td>965.056017</td>\n",
       "      <td>3214.569244</td>\n",
       "      <td>1916.699857</td>\n",
       "    </tr>\n",
       "    <tr>\n",
       "      <th>min</th>\n",
       "      <td>2134.000000</td>\n",
       "      <td>4379.00000</td>\n",
       "      <td>3794.000000</td>\n",
       "      <td>3090.000000</td>\n",
       "      <td>8335.000000</td>\n",
       "      <td>3222.000000</td>\n",
       "      <td>1969.000000</td>\n",
       "      <td>3874.000000</td>\n",
       "      <td>4742.000000</td>\n",
       "    </tr>\n",
       "    <tr>\n",
       "      <th>25%</th>\n",
       "      <td>3889.000000</td>\n",
       "      <td>8571.00000</td>\n",
       "      <td>7168.000000</td>\n",
       "      <td>7316.000000</td>\n",
       "      <td>14139.000000</td>\n",
       "      <td>5067.000000</td>\n",
       "      <td>3986.000000</td>\n",
       "      <td>7972.000000</td>\n",
       "      <td>8375.000000</td>\n",
       "    </tr>\n",
       "    <tr>\n",
       "      <th>50%</th>\n",
       "      <td>4678.000000</td>\n",
       "      <td>9745.00000</td>\n",
       "      <td>8754.000000</td>\n",
       "      <td>10178.000000</td>\n",
       "      <td>16975.000000</td>\n",
       "      <td>6356.000000</td>\n",
       "      <td>4597.000000</td>\n",
       "      <td>9937.000000</td>\n",
       "      <td>9668.000000</td>\n",
       "    </tr>\n",
       "    <tr>\n",
       "      <th>75%</th>\n",
       "      <td>7160.000000</td>\n",
       "      <td>10774.00000</td>\n",
       "      <td>10566.000000</td>\n",
       "      <td>13703.000000</td>\n",
       "      <td>19270.000000</td>\n",
       "      <td>8424.000000</td>\n",
       "      <td>5154.000000</td>\n",
       "      <td>12242.000000</td>\n",
       "      <td>10904.000000</td>\n",
       "    </tr>\n",
       "    <tr>\n",
       "      <th>max</th>\n",
       "      <td>34238.000000</td>\n",
       "      <td>15258.00000</td>\n",
       "      <td>17798.000000</td>\n",
       "      <td>31398.000000</td>\n",
       "      <td>25676.000000</td>\n",
       "      <td>23567.000000</td>\n",
       "      <td>7594.000000</td>\n",
       "      <td>25072.000000</td>\n",
       "      <td>18260.000000</td>\n",
       "    </tr>\n",
       "  </tbody>\n",
       "</table>\n",
       "</div>"
      ],
      "text/plain": [
       "       full_time_students  intermediate_occupations  \\\n",
       "count          573.000000                 573.00000   \n",
       "mean          6503.387435                9688.34904   \n",
       "std           4869.217877                1678.78043   \n",
       "min           2134.000000                4379.00000   \n",
       "25%           3889.000000                8571.00000   \n",
       "50%           4678.000000                9745.00000   \n",
       "75%           7160.000000               10774.00000   \n",
       "max          34238.000000               15258.00000   \n",
       "\n",
       "       intermediate_occupations_small_employers_and_own_account_workers  \\\n",
       "count                                         573.000000                  \n",
       "mean                                         8955.591623                  \n",
       "std                                          2469.321916                  \n",
       "min                                          3794.000000                  \n",
       "25%                                          7168.000000                  \n",
       "50%                                          8754.000000                  \n",
       "75%                                         10566.000000                  \n",
       "max                                         17798.000000                  \n",
       "\n",
       "       managerial__administrative_and_professional_occupations_higher_managerial__administrative_and_professional_occupations  \\\n",
       "count                                         573.000000                                                                        \n",
       "mean                                        11088.855148                                                                        \n",
       "std                                          5011.366438                                                                        \n",
       "min                                          3090.000000                                                                        \n",
       "25%                                          7316.000000                                                                        \n",
       "50%                                         10178.000000                                                                        \n",
       "75%                                         13703.000000                                                                        \n",
       "max                                         31398.000000                                                                        \n",
       "\n",
       "       managerial__administrative_and_professional_occupations_lower_managerial__administrative_and_professional_occupations  \\\n",
       "count                                         573.000000                                                                       \n",
       "mean                                        16875.739965                                                                       \n",
       "std                                          3662.285527                                                                       \n",
       "min                                          8335.000000                                                                       \n",
       "25%                                         14139.000000                                                                       \n",
       "50%                                         16975.000000                                                                       \n",
       "75%                                         19270.000000                                                                       \n",
       "max                                         25676.000000                                                                       \n",
       "\n",
       "       never_worked___long_term_unemployed  \\\n",
       "count                           573.000000   \n",
       "mean                           7214.572426   \n",
       "std                            3076.346716   \n",
       "min                            3222.000000   \n",
       "25%                            5067.000000   \n",
       "50%                            6356.000000   \n",
       "75%                            8424.000000   \n",
       "max                           23567.000000   \n",
       "\n",
       "       routine_and_manual_occupations_lower_supervisory_and_technical_occupations  \\\n",
       "count                                         573.000000                            \n",
       "mean                                         4573.465969                            \n",
       "std                                           965.056017                            \n",
       "min                                          1969.000000                            \n",
       "25%                                          3986.000000                            \n",
       "50%                                          4597.000000                            \n",
       "75%                                          5154.000000                            \n",
       "max                                          7594.000000                            \n",
       "\n",
       "       routine_and_manual_occupations_routine_occupations  \\\n",
       "count                                         573.000000    \n",
       "mean                                        10226.813264    \n",
       "std                                          3214.569244    \n",
       "min                                          3874.000000    \n",
       "25%                                          7972.000000    \n",
       "50%                                          9937.000000    \n",
       "75%                                         12242.000000    \n",
       "max                                         25072.000000    \n",
       "\n",
       "       routine_and_manual_occupations_semi_routine_occupations  \n",
       "count                                         573.000000        \n",
       "mean                                         9631.280977        \n",
       "std                                          1916.699857        \n",
       "min                                          4742.000000        \n",
       "25%                                          8375.000000        \n",
       "50%                                          9668.000000        \n",
       "75%                                         10904.000000        \n",
       "max                                         18260.000000        "
      ]
     },
     "execution_count": 12,
     "metadata": {},
     "output_type": "execute_result"
    }
   ],
   "source": [
    "dim_nsec.describe()"
   ]
  }
 ],
 "metadata": {
  "kernelspec": {
   "display_name": "v_env_folder",
   "language": "python",
   "name": "python3"
  },
  "language_info": {
   "codemirror_mode": {
    "name": "ipython",
    "version": 3
   },
   "file_extension": ".py",
   "mimetype": "text/x-python",
   "name": "python",
   "nbconvert_exporter": "python",
   "pygments_lexer": "ipython3",
   "version": "3.12.4"
  }
 },
 "nbformat": 4,
 "nbformat_minor": 2
}
